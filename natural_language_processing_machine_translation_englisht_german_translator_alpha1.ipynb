{
  "nbformat": 4,
  "nbformat_minor": 0,
  "metadata": {
    "colab": {
      "provenance": [],
      "toc_visible": true,
      "include_colab_link": true
    },
    "kernelspec": {
      "name": "python3",
      "display_name": "Python 3"
    },
    "language_info": {
      "name": "python"
    }
  },
  "cells": [
    {
      "cell_type": "markdown",
      "metadata": {
        "id": "view-in-github",
        "colab_type": "text"
      },
      "source": [
        "<a href=\"https://colab.research.google.com/github/vinayakhmpiholi/CapstoneAIML/blob/main/natural_language_processing_machine_translation_englisht_german_translator_alpha1.ipynb\" target=\"_parent\"><img src=\"https://colab.research.google.com/assets/colab-badge.svg\" alt=\"Open In Colab\"/></a>"
      ]
    },
    {
      "cell_type": "markdown",
      "source": [
        "<h1><center> NATURAL LANGUAGE PROCESSING: ENGLISH - GERMAN TRANSLATOR </center></h1>"
      ],
      "metadata": {
        "id": "cNOyz-mYZuXT"
      }
    },
    {
      "cell_type": "markdown",
      "source": [
        "**Authors:** Bhagawan Das Armani, Gunasekaran Venkatesan, Madhuman Basu, Sanjay R, Vinayak Hampiholi, Vipin Nair"
      ],
      "metadata": {
        "id": "45QrFkhCaWps"
      }
    },
    {
      "cell_type": "markdown",
      "source": [
        "**Instructions:** (To be removed at the time of submission).\n",
        "- Use your name, date-time and action in the comment that helps in tracking the changes.\n",
        "- The shared directory is MachineTranslation https://drive.google.com/drive/folders/1mpeQDxowVB45zRKwrjSk8LipxvpQOpWY?usp=drive_link\n",
        "- Machine Learning datasets from https://olympus.mygreatlearning.com/courses/110092/modules/items/6688876?pb_id=17305 is placed in the directory MachineTranslation/DataSet\n",
        "- I have also downloaded the datasets from https://statmt.org/wmt14/translation-task.html and placed the directories in the MachineTranslation/DataSet/"
      ],
      "metadata": {
        "id": "sWkXsZPOVPC8"
      }
    },
    {
      "cell_type": "markdown",
      "source": [
        "# <a name = 'link0'> INDEX </a>"
      ],
      "metadata": {
        "id": "R-9fVsZfagFI"
      }
    },
    {
      "cell_type": "markdown",
      "source": [
        "- <a href = #link0> INDEX </a>\n",
        "- <a href = #link1> PROBLEM STATEMENT </a>\n",
        "    - <a href = #link11> DOMAIN </a>\n",
        "    - <a href = #link12> CONTEXT </a>\n",
        "    - <a href = #link13> DATA DESCRIPTION </a>\n",
        "    - <a href = #link14> PROJECT OBJECTIVE </a>\n",
        "    - <a href = #link15> IMPORT LIBRARIES </a>\n",
        "- <a href = #link2> 1. PROJECT TASK: MILESTONE 1 </a>\n",
        "    - <a href = #link21> STEP 1: IMPORT AND MERGE THREE DATASETS </a>\n",
        "        - <a href = #link211> STEP 1.1: IMPORT EUROPARL DATASET </a>\n",
        "        - <a href = #link212> STEP 1.2: IMPORT COMMONCRAWL DATASET </a>\n",
        "        - <a href = #link213> STEP 1.3: IMPORT NEWSCOMMENTARY DATASET </a>\n",
        "    - <a href = #link22> STEP 2: DATA CLEANSING </a>\n",
        "    - <a href = #link23> STEP 3: NLP PRE-PROCESSING </a>\n",
        "    - <a href = #link24> STEP 4: DESIGN, TRAIN AND TEST SIMPLE RNN AND LSTM MODELS </a>\n",
        "    - <a href = #link25> STEP 5: INTERIM REPORT </a>\n",
        "- <a href = #link3> 2. PROJECT TASK: MILESTONE 2 </a>\n",
        "    - <a href = #link31> STEP 1: DESIGN, TRAIN AND TEST RNN AND LSTM MODELS WITH EMBEDDINGS </a>\n",
        "    - <a href = #link32> STEP 2: DESIGN, TRAIN AND TEST BIDIRECTIONAL RNN AND LSTM MODELS </a>\n",
        "    - <a href = #link33> STEP 3: DESIGN, TRAIN AND TEST ENCODER - DECODER RNN AND LSTM MODELS </a>\n",
        "    - <a href = #link34> STEP 4: CHOOSE THE BEST PERFORMING MODEL AND PICKLE IT </a>\n",
        "    - <a href = #link35> FINAL REPORT </a>\n",
        "- <a href = #link4> 3. PROJECT TASK: MILESTONE 3 </a>\n",
        "    - <a href = #link41> DESIGN A CLICKABLE UI BASED TRANSLATION INTERFACE </a>"
      ],
      "metadata": {
        "id": "p8Tx-jUKa3t6"
      }
    },
    {
      "cell_type": "markdown",
      "source": [
        "# <a name = 'link1'> PROBLEM STATEMENT </a>"
      ],
      "metadata": {
        "id": "fmFZa4uvlEC0"
      }
    },
    {
      "cell_type": "markdown",
      "source": [
        "## <a name = 'link11'> DOMAIN </a>"
      ],
      "metadata": {
        "id": "THSd3khTlKHk"
      }
    },
    {
      "cell_type": "markdown",
      "source": [
        "MACHINE TRANSLATION"
      ],
      "metadata": {
        "id": "BC6dJhZbl4jN"
      }
    },
    {
      "cell_type": "markdown",
      "source": [
        "## <a name = 'link12'> CONTEXT </a>"
      ],
      "metadata": {
        "id": "-TEjkGf3lP8v"
      }
    },
    {
      "cell_type": "markdown",
      "source": [
        "Machine Translation is the automated translation of source material into another language without human intervention.The database comes fromACL2014 Ninth workshop on Statistical Machine Translation. This workshop mainly focusses on language translation between European language pairs. The idea behind the workshop is to provide the ability for two parties to communicate and exchange the ideas from different countries"
      ],
      "metadata": {
        "id": "AH55VErDl7SG"
      }
    },
    {
      "cell_type": "markdown",
      "source": [
        "## <a name = 'link13'> DATA DESCRIPTION </a>"
      ],
      "metadata": {
        "id": "-Dk6omDBlSrW"
      }
    },
    {
      "cell_type": "markdown",
      "source": [
        "The  database  is  basically  sentences  in  German/English  of  various  events.  Three  datasets  are  obtained  from  Statistical  Machine  Translation workshop. Either the dataset can be downloaded from the link or can be used from the shared files. Three datasets are,\n",
        "- <a href ='https://statmt.org/wmt13/training-parallel-europarl-v7.tgz'> Europarl v7 </a>\n",
        "- <a href = 'https://statmt.org/wmt13/training-parallel-commoncrawl.tgz'> Common Crawl corpus </a>\n",
        "- <a href = 'https://statmt.org/wmt14/training-parallel-nc-v9.tgz'> News Commentary </a>\n",
        "\n",
        "Link to download the dataset: https://statmt.org/wmt14/translation-task.html"
      ],
      "metadata": {
        "id": "UmYat7Evl-j7"
      }
    },
    {
      "cell_type": "markdown",
      "source": [
        "## <a name = 'link14'> PROJECT OBJECTIVE </a>"
      ],
      "metadata": {
        "id": "lGyXBLWqlXuD"
      }
    },
    {
      "cell_type": "markdown",
      "source": [
        "Design a Machine Translation model that can be used to translate sentences from German language to English language or vice-versa."
      ],
      "metadata": {
        "id": "TVBxWcHtnLQg"
      }
    },
    {
      "cell_type": "markdown",
      "source": [
        "## <a name = 'link11'> IMPORT LIBRARIES </a>"
      ],
      "metadata": {
        "id": "iWxG2l--lcDF"
      }
    },
    {
      "cell_type": "code",
      "source": [
        "# This rubric is added by Vinayak Hampiholi on Feb 23.\n",
        "# Import warnings library to make warnings not displayed\n",
        "import warnings\n",
        "\n",
        "# Set the warning filters to ignore the warnings\n",
        "warnings.filterwarnings(\"ignore\")"
      ],
      "metadata": {
        "id": "lgq2QqdAUdhn"
      },
      "execution_count": null,
      "outputs": []
    },
    {
      "cell_type": "code",
      "source": [
        "# This rubric is added by Vinayak Hampiholi on Feb 23.\n",
        "# Import google drive package\n",
        "from google.colab import drive\n",
        "\n",
        "# mount the google drive\n",
        "drive.mount(\"/content/drive\")"
      ],
      "metadata": {
        "colab": {
          "base_uri": "https://localhost:8080/"
        },
        "id": "csuL6UiWaUpt",
        "outputId": "317ff278-7644-4337-a6c8-7ba79b189a2d"
      },
      "execution_count": null,
      "outputs": [
        {
          "output_type": "stream",
          "name": "stdout",
          "text": [
            "Mounted at /content/drive\n"
          ]
        }
      ]
    },
    {
      "cell_type": "code",
      "source": [
        "# This rubric is added by Vinayak Hampiholi on Feb 23.\n",
        "# Import the IPython library to display the output of a code block as markdown\n",
        "import IPython\n",
        "\n",
        "# Include the display and Markdown functions from IPython\n",
        "from IPython.display import display, Markdown\n",
        "\n",
        "# Display the version of IPython\n",
        "display(Markdown(\"**Observations:**\\n- IPython Version: {}\".format(IPython.__version__)))"
      ],
      "metadata": {
        "colab": {
          "base_uri": "https://localhost:8080/",
          "height": 70
        },
        "id": "576r0C6tVAtj",
        "outputId": "4d85a6f9-2ab1-4d8e-e52d-4b6590754c67"
      },
      "execution_count": null,
      "outputs": [
        {
          "output_type": "display_data",
          "data": {
            "text/plain": [
              "<IPython.core.display.Markdown object>"
            ],
            "text/markdown": "**Observations:**\n- IPython Version: 7.34.0"
          },
          "metadata": {}
        }
      ]
    },
    {
      "cell_type": "code",
      "source": [
        "# This rubric is added by Vinayak Hampiholi on Feb 23.\n",
        "# Import numpy library\n",
        "import numpy\n",
        "\n",
        "# Display the version of numpy\n",
        "display(Markdown(\"**Observations:**\\n- numpy version: {}\".format(numpy.__version__)))"
      ],
      "metadata": {
        "colab": {
          "base_uri": "https://localhost:8080/",
          "height": 70
        },
        "id": "80bR-QaSZs-k",
        "outputId": "0785c197-c8ea-4295-a620-32d54785a34c"
      },
      "execution_count": null,
      "outputs": [
        {
          "output_type": "display_data",
          "data": {
            "text/plain": [
              "<IPython.core.display.Markdown object>"
            ],
            "text/markdown": "**Observations:**\n- numpy version: 1.26.4"
          },
          "metadata": {}
        }
      ]
    },
    {
      "cell_type": "code",
      "source": [
        "# This rubric is added by Vinayak Hampiholi on Feb 23.\n",
        "# Import numpy library\n",
        "import pandas as pd\n",
        "\n",
        "# Display the version of numpy\n",
        "display(Markdown(\"**Observations:**\\n- pandas version: {}\".format(pd.__version__)))"
      ],
      "metadata": {
        "colab": {
          "base_uri": "https://localhost:8080/",
          "height": 70
        },
        "id": "uLxRGm74axeK",
        "outputId": "0bdeb62e-70bf-455e-8244-19d3f4692b29"
      },
      "execution_count": null,
      "outputs": [
        {
          "output_type": "display_data",
          "data": {
            "text/plain": [
              "<IPython.core.display.Markdown object>"
            ],
            "text/markdown": "**Observations:**\n- pandas version: 2.2.2"
          },
          "metadata": {}
        }
      ]
    },
    {
      "cell_type": "code",
      "source": [
        "# This rubric is added by Vinayak Hampiholi on Feb 23.\n",
        "# Create a function to load data from a file\n",
        "def load_data(filepath, language):\n",
        "\n",
        "    # Open the file in read mode\n",
        "    with open(filepath, \"r\", encoding = \"utf-8\") as f:\n",
        "\n",
        "        # Load the file content\n",
        "        lines = f.readlines()\n",
        "\n",
        "    # Create a datafraome and return the dataframe\n",
        "    return pd.DataFrame({'text': lines, 'language': language})"
      ],
      "metadata": {
        "id": "hkJjkofNa3LJ"
      },
      "execution_count": null,
      "outputs": []
    },
    {
      "cell_type": "code",
      "source": [],
      "metadata": {
        "id": "7bZloyBdkeJj"
      },
      "execution_count": null,
      "outputs": []
    },
    {
      "cell_type": "markdown",
      "source": [
        "# <a name = 'link2'> PROJECT TASK:MILESTONE 1 </a>"
      ],
      "metadata": {
        "id": "i3eiWP2yhiP6"
      }
    },
    {
      "cell_type": "markdown",
      "source": [
        "## <a name = 'link21'> STEP 1: IMPORT AND MERGE THREE DATASETS </a>"
      ],
      "metadata": {
        "id": "KmRBxe-TieYB"
      }
    },
    {
      "cell_type": "markdown",
      "source": [
        "### <a name = 'link211'> STEP 1.1: IMPORT EUROPARL DATASET  </a>"
      ],
      "metadata": {
        "id": "Gdr8HtMESsS8"
      }
    },
    {
      "cell_type": "code",
      "source": [
        "# This rubric is added by Vinayak Hampiholi on Feb 23.\n",
        "# Identify the difference between the downloaded datasets for europarl-v7\n",
        "!diff /content/drive/MyDrive/MachineTranslation/DataSet/europarl-v7_de_en.txt /content/drive/MyDrive/MachineTranslation/DataSet/training-parallel-europarl-v7/europarl-v7.de-en.de\n",
        "!diff /content/drive/MyDrive/MachineTranslation/DataSet/europarl-v7_en_de.txt /content/drive/MyDrive/MachineTranslation/DataSet/training-parallel-europarl-v7/europarl-v7.de-en.en"
      ],
      "metadata": {
        "id": "IyCESKeZYGQT"
      },
      "execution_count": null,
      "outputs": []
    },
    {
      "cell_type": "markdown",
      "source": [
        "**Observations:**\n",
        "- The datafiles for europarl-v7 is same for both datasets."
      ],
      "metadata": {
        "id": "VN_cd4G0v46b"
      }
    },
    {
      "cell_type": "code",
      "source": [
        "# This rubric is added by Vinayak Hampiholi on Feb 23.\n",
        "# Identify the differences between the downloaded datasets for commoncrawl\n",
        "!diff /content/drive/MyDrive/MachineTranslation/DataSet/commoncrawl_de_en.txt /content/drive/MyDrive/MachineTranslation/DataSet/training-parallel-commoncrawl/commoncrawl.de-en.de\n",
        "!diff /content/drive/MyDrive/MachineTranslation/DataSet/commoncrawl_en_de.txt /content/drive/MyDrive/MachineTranslation/DataSet/training-parallel-commoncrawl/commoncrawl.de-en.en"
      ],
      "metadata": {
        "id": "0zd93ouewP0l"
      },
      "execution_count": null,
      "outputs": []
    },
    {
      "cell_type": "markdown",
      "source": [
        "**Observations:**\n",
        "- The datafiles for commoncrawl is same for both datasets."
      ],
      "metadata": {
        "id": "Kn21aK1Zw8rY"
      }
    },
    {
      "cell_type": "code",
      "source": [
        "# This rubric is added by Vinayak Hampiholi on Feb 23.\n",
        "# Identify the differences between the downloaded datasets for news_commmentary-v9\n",
        "!diff /content/drive/MyDrive/MachineTranslation/DataSet/news-commentary-v9_de_en.txt /content/drive/MyDrive/MachineTranslation/DataSet/training-parallel-nc-v9/news-commentary-v9.de-en.de\n",
        "!diff /content/drive/MyDrive/MachineTranslation/DataSet/news-commentary-v9_en_de.txt /content/drive/MyDrive/MachineTranslation/DataSet/training-parallel-nc-v9/news-commentary-v9.de-en.en"
      ],
      "metadata": {
        "id": "k3zjYkUSw686"
      },
      "execution_count": null,
      "outputs": []
    },
    {
      "cell_type": "markdown",
      "source": [
        "**Observations:**\n",
        "- The datafiles for newxcommentary-v9 is same for both datasets."
      ],
      "metadata": {
        "id": "VIsZfDH2xeX1"
      }
    },
    {
      "cell_type": "code",
      "source": [
        "# This rubric is added by Vinayak Hampiholi on Feb 23.\n",
        "# Comment on the dataloading activities\n",
        "display(Markdown(\"**Observations:**\"))\n",
        "\n",
        "# Set the file path to access europarl-v7.de-en.de from https://statmt.org/wmt14/translation-task.html\n",
        "europarl_de_path = \"/content/drive/MyDrive/MachineTranslation/DataSet/training-parallel-europarl-v7/europarl-v7.de-en.de\"\n",
        "\n",
        "# Initiate a try block to capture the error while loading the data europarl-v7.de-en.de\n",
        "try:\n",
        "    # Load the file europarl-v7.de-en.de into europarl_de\n",
        "    europarl_de = load_data(europarl_de_path, \"de\")\n",
        "\n",
        "    # Display the success message\n",
        "    display(Markdown(\"- File {} loaded successfully.\".format(europarl_de_path)))\n",
        "\n",
        "# Catch any generic exception\n",
        "except:\n",
        "\n",
        "    # Display the error message\n",
        "    display(Markdown(\"- Encountered the error while loading the file {}.\".format(europarl_de_path)))\n",
        "\n",
        "# Set the file path to access europarl-v7.de-en.en from https://statmt.org/wmt14/translation-task.html\n",
        "europarl_en_path = \"/content/drive/MyDrive/MachineTranslation/DataSet/training-parallel-europarl-v7/europarl-v7.de-en.en\"\n",
        "\n",
        "# Initiate a try block to catpure the error while loading the data europarl-v7.de-en.en\n",
        "try:\n",
        "\n",
        "    # Load the file europarl-v7.de-en.en\n",
        "    europarl_en = load_data(europarl_en_path, \"en\")\n",
        "\n",
        "    # Display the success message\n",
        "    display(Markdown(\"- File {} loaded successfully.\".format(europarl_en_path)))\n",
        "\n",
        "# Catch any generic exception\n",
        "except:\n",
        "\n",
        "    # Display the error message\n",
        "    display(Markdown(\"- Encountered the error while loading the file {}.\".format(europarl_en_path)))"
      ],
      "metadata": {
        "colab": {
          "base_uri": "https://localhost:8080/",
          "height": 93
        },
        "id": "MBJx5SCsTAPt",
        "outputId": "6228ea44-def5-44c9-842f-6d3fd992ebf3"
      },
      "execution_count": 16,
      "outputs": [
        {
          "output_type": "display_data",
          "data": {
            "text/plain": [
              "<IPython.core.display.Markdown object>"
            ],
            "text/markdown": "**Observations:**"
          },
          "metadata": {}
        },
        {
          "output_type": "display_data",
          "data": {
            "text/plain": [
              "<IPython.core.display.Markdown object>"
            ],
            "text/markdown": "- File /content/drive/MyDrive/MachineTranslation/DataSet/training-parallel-europarl-v7/europarl-v7.de-en.de loaded successfully."
          },
          "metadata": {}
        },
        {
          "output_type": "display_data",
          "data": {
            "text/plain": [
              "<IPython.core.display.Markdown object>"
            ],
            "text/markdown": "- File /content/drive/MyDrive/MachineTranslation/DataSet/training-parallel-europarl-v7/europarl-v7.de-en.en loaded successfully."
          },
          "metadata": {}
        }
      ]
    },
    {
      "cell_type": "markdown",
      "source": [
        "### <a name = 'link212'> STEP 1.2: IMPORT COMMONCRAWL DATASET  </a>"
      ],
      "metadata": {
        "id": "zP6PTVCITGo7"
      }
    },
    {
      "cell_type": "code",
      "source": [
        "# This rubric is added by Vinayak Hampiholi on Feb 23.\n",
        "# Comment on the dataloading activities\n",
        "display(Markdown(\"**Observations:**\"))\n",
        "\n",
        "# Set the file path to access commoncrawl.de-en.de from https://statmt.org/wmt14/translation-task.html\n",
        "commoncrawl_de_path = \"/content/drive/MyDrive/MachineTranslation/DataSet/training-parallel-commoncrawl/commoncrawl.de-en.de\"\n",
        "\n",
        "# Initiate a try block to capture the error while loading the data commoncrawl.de-en.de\n",
        "try:\n",
        "\n",
        "    # Load the file commoncrawl.de-en.de into commoncrawl_de\n",
        "    commoncrawl_de = load_data(commoncrawl_de_path, \"de\")\n",
        "\n",
        "    # Display the success message\n",
        "    display(Markdown(\"- File {} loaded successfully.\".format(commoncrawl_de_path)))\n",
        "\n",
        "# Catch any generic exception\n",
        "except:\n",
        "\n",
        "    # Display the error message\n",
        "    display(Markdown(\"- Encountered the error while loading the file {}.\".format(commoncrawl_de_path)))\n",
        "\n",
        "# Set the file path to access commoncrawl.de-en.en from https://statmt.org/wmt14/translation-task.html\n",
        "commoncrawl_en_path = \"/content/drive/MyDrive/MachineTranslation/DataSet/training-parallel-commoncrawl/commoncrawl.de-en.en\"\n",
        "\n",
        "# Initiate a try block to capture the error while loading the data commoncrawl.de-en.en\n",
        "try:\n",
        "\n",
        "    # Load the file commoncrawl.de-en.en into commoncrawl_en\n",
        "    commoncrawl_en = load_data(commoncrawl_en_path, \"en\")\n",
        "\n",
        "    # Display the success message\n",
        "    display(Markdown(\"- File {} loaded successfully.\".format(commoncrawl_en_path)))\n",
        "\n",
        "# Catch any generic exception\n",
        "except:\n",
        "\n",
        "    # Display the error message\n",
        "    display(Markdown(\"- Encountered the error while loading the file {}.\".format(commoncrawl_en_path)))"
      ],
      "metadata": {
        "colab": {
          "base_uri": "https://localhost:8080/",
          "height": 93
        },
        "id": "HwoK4nMET8rh",
        "outputId": "2c8f02a7-aef1-4d1d-e750-bd0366a1c4b5"
      },
      "execution_count": 17,
      "outputs": [
        {
          "output_type": "display_data",
          "data": {
            "text/plain": [
              "<IPython.core.display.Markdown object>"
            ],
            "text/markdown": "**Observations:**"
          },
          "metadata": {}
        },
        {
          "output_type": "display_data",
          "data": {
            "text/plain": [
              "<IPython.core.display.Markdown object>"
            ],
            "text/markdown": "- File /content/drive/MyDrive/MachineTranslation/DataSet/training-parallel-commoncrawl/commoncrawl.de-en.de loaded successfully."
          },
          "metadata": {}
        },
        {
          "output_type": "display_data",
          "data": {
            "text/plain": [
              "<IPython.core.display.Markdown object>"
            ],
            "text/markdown": "- File /content/drive/MyDrive/MachineTranslation/DataSet/training-parallel-commoncrawl/commoncrawl.de-en.en loaded successfully."
          },
          "metadata": {}
        }
      ]
    },
    {
      "cell_type": "markdown",
      "source": [
        "### <a name = 'link213'> STEP 1.3: IMPORT NEWSCOMMENTARY DATASET  </a>"
      ],
      "metadata": {
        "id": "N9LfoVB-ULNB"
      }
    },
    {
      "cell_type": "code",
      "source": [
        "# This rubric is added by Vinayak Hampiholi on Feb 23.\n",
        "# Comment on the dataloading activities\n",
        "display(Markdown(\"**Observations:**\"))\n",
        "\n",
        "# Set the file path to access news-commentary-v9.de-en.de from https://statmt.org/wmt14/translation-task.html\n",
        "newscommentary_de_path = \"/content/drive/MyDrive/MachineTranslation/DataSet/training-parallel-nc-v9/news-commentary-v9.de-en.de\"\n",
        "\n",
        "# Initiate a try block to capture the error while loading the data news-commentary-v9.de-en.de\n",
        "try:\n",
        "\n",
        "    # Load the file news-commentary-v9.de-en.de into newscommentary_de\n",
        "    newscommentary_de = load_data(newscommentary_de_path, \"de\")\n",
        "\n",
        "    # Display the success message\n",
        "    display(Markdown(\"- File {} loaded successfully.\".format(newscommentary_de_path)))\n",
        "\n",
        "# Catch any generic exception\n",
        "except:\n",
        "\n",
        "    # Display the error message\n",
        "    display(Markdown(\"- nEncountered the error while loading the file {}.\".format(newscommentary_de_path)))\n",
        "\n",
        "# Set the file path to access news-commentary-v9.de-en.en from https://statmt.org/wmt14/translation-task.html\n",
        "newscommentary_en_path = \"/content/drive/MyDrive/MachineTranslation/DataSet/training-parallel-nc-v9/news-commentary-v9.de-en.en\"\n",
        "\n",
        "# Initiate a try block to catpure the error while loading the data news-commentary-v9.de-en.en\n",
        "try:\n",
        "\n",
        "    # Load the file news-commentary-v9.de-en.en\n",
        "    newscommentary_en = load_data(newscommentary_en_path, \"en\")\n",
        "\n",
        "    # Display the success message\n",
        "    display(Markdown(\"- File {} loaded successfully.\".format(newscommentary_en_path)))\n",
        "\n",
        "# Catch any generic exception\n",
        "except:\n",
        "\n",
        "    # Display the error message\n",
        "    display(Markdown(\"- Encountered the error while loading the file {}.\".format(newscommentary_en_path)))"
      ],
      "metadata": {
        "colab": {
          "base_uri": "https://localhost:8080/",
          "height": 93
        },
        "id": "Glw96rzBUUMO",
        "outputId": "3aa54d97-5d26-4e66-aae7-55d76e9ffcd3"
      },
      "execution_count": 18,
      "outputs": [
        {
          "output_type": "display_data",
          "data": {
            "text/plain": [
              "<IPython.core.display.Markdown object>"
            ],
            "text/markdown": "**Observations:**"
          },
          "metadata": {}
        },
        {
          "output_type": "display_data",
          "data": {
            "text/plain": [
              "<IPython.core.display.Markdown object>"
            ],
            "text/markdown": "- File /content/drive/MyDrive/MachineTranslation/DataSet/training-parallel-nc-v9/news-commentary-v9.de-en.de loaded successfully."
          },
          "metadata": {}
        },
        {
          "output_type": "display_data",
          "data": {
            "text/plain": [
              "<IPython.core.display.Markdown object>"
            ],
            "text/markdown": "- File /content/drive/MyDrive/MachineTranslation/DataSet/training-parallel-nc-v9/news-commentary-v9.de-en.en loaded successfully."
          },
          "metadata": {}
        }
      ]
    },
    {
      "cell_type": "code",
      "source": [
        "# This rubric is added by Vinayak Hampiholi on Mar 4.\n",
        "\n",
        "# Compare the number of rows in the dataframes europarl_de and europarl_en\n",
        "display(Markdown(\"**Observations:**\"))\n",
        "\n",
        "# Display the number of rows in the dataframe europarl_de\n",
        "display(Markdown(\"- Number of rows in the dataframe europarl_de: {}\".format(europarl_de.shape[0])))\n",
        "\n",
        "# Display the number of rows in the dataframe europarl_en\n",
        "display(Markdown(\"- Number of rows in the dataframe europarl_en: {}\".format(europarl_en.shape[0])))\n",
        "\n",
        "# Compare the numbers and display the observations\n",
        "if europarl_de.shape[0] == europarl_en.shape[0]:\n",
        "\n",
        "    # If the rows are same then print the same\n",
        "    display(Markdown(\"- The number of rows in the dataframes europarl_de and europarl_en are same.\"))\n",
        "\n",
        "else:\n",
        "\n",
        "    # If the rows are different then print the same\n",
        "    display(Markdown(\"- The number of rows in the dataframes europarl_de and europarl_en are not same.\"))"
      ],
      "metadata": {
        "colab": {
          "base_uri": "https://localhost:8080/",
          "height": 116
        },
        "id": "2Yf2phu-xDYC",
        "outputId": "23b2ac3e-0214-47c9-a83b-eb24d8ce4365"
      },
      "execution_count": 19,
      "outputs": [
        {
          "output_type": "display_data",
          "data": {
            "text/plain": [
              "<IPython.core.display.Markdown object>"
            ],
            "text/markdown": "**Observations:**"
          },
          "metadata": {}
        },
        {
          "output_type": "display_data",
          "data": {
            "text/plain": [
              "<IPython.core.display.Markdown object>"
            ],
            "text/markdown": "- Number of rows in the dataframe europarl_de: 1920209"
          },
          "metadata": {}
        },
        {
          "output_type": "display_data",
          "data": {
            "text/plain": [
              "<IPython.core.display.Markdown object>"
            ],
            "text/markdown": "- Number of rows in the dataframe europarl_en: 1920209"
          },
          "metadata": {}
        },
        {
          "output_type": "display_data",
          "data": {
            "text/plain": [
              "<IPython.core.display.Markdown object>"
            ],
            "text/markdown": "- The number of rows in the dataframes europarl_de and europarl_en are same."
          },
          "metadata": {}
        }
      ]
    },
    {
      "cell_type": "code",
      "source": [
        "# This rubric is added by Vinayak Hampiholi on Mar 4.\n",
        "\n",
        "# Compare the number of rows in the dataframes commoncrawl_de and commoncrawl_en\n",
        "display(Markdown(\"**Observations:**\"))\n",
        "\n",
        "# Display the number of rows in the dataframe commoncrawl_de\n",
        "display(Markdown(\"- Number of rows in the dataframe commoncrawl_de: {}\".format(commoncrawl_de.shape[0])))\n",
        "\n",
        "# Display the number of rows in the dataframe commoncrawl_en\n",
        "display(Markdown(\"- Number of rows in the dataframe commoncrawl_en: {}\".format(commoncrawl_en.shape[0])))\n",
        "\n",
        "# Compare the numbers and display the observations\n",
        "if commoncrawl_de.shape[0] == commoncrawl_en.shape[0]:\n",
        "\n",
        "    # If the rows are same then print the same\n",
        "\n",
        "    display(Markdown(\"- The number of rows in the dataframes commoncrawl_de and commoncrawl_en are same.\"))\n",
        "else:\n",
        "\n",
        "    # If the rows are different then print the same\n",
        "    display(Markdown(\"- The number of rows in the dataframes commoncrawl_de and commoncrawl_en are not same.\"))"
      ],
      "metadata": {
        "colab": {
          "base_uri": "https://localhost:8080/",
          "height": 116
        },
        "id": "zfpSnzyu2dcq",
        "outputId": "87c4f0a6-264c-456d-8c2c-54d06a2aff7e"
      },
      "execution_count": 20,
      "outputs": [
        {
          "output_type": "display_data",
          "data": {
            "text/plain": [
              "<IPython.core.display.Markdown object>"
            ],
            "text/markdown": "**Observations:**"
          },
          "metadata": {}
        },
        {
          "output_type": "display_data",
          "data": {
            "text/plain": [
              "<IPython.core.display.Markdown object>"
            ],
            "text/markdown": "- Number of rows in the dataframe commoncrawl_de: 2399123"
          },
          "metadata": {}
        },
        {
          "output_type": "display_data",
          "data": {
            "text/plain": [
              "<IPython.core.display.Markdown object>"
            ],
            "text/markdown": "- Number of rows in the dataframe commoncrawl_en: 2399123"
          },
          "metadata": {}
        },
        {
          "output_type": "display_data",
          "data": {
            "text/plain": [
              "<IPython.core.display.Markdown object>"
            ],
            "text/markdown": "- The number of rows in the dataframes commoncrawl_de and commoncrawl_en are same."
          },
          "metadata": {}
        }
      ]
    },
    {
      "cell_type": "markdown",
      "source": [
        "## <a name = 'link22'> STEP 2: DATA CLEANSING </a>"
      ],
      "metadata": {
        "id": "HERW9N3-infp"
      }
    },
    {
      "cell_type": "markdown",
      "source": [
        "## <a name = 'link23'> STEP 3: NLP PRE-PROCESSING </a>"
      ],
      "metadata": {
        "id": "Hz5DbkZyiu57"
      }
    },
    {
      "cell_type": "markdown",
      "source": [
        "## <a name = 'link24'> STEP 4: DESIGN, TRAIN, AND TEST SIMPLE RNN AND LSTM MODELS </a>"
      ],
      "metadata": {
        "id": "kyGcTwKTi6Pk"
      }
    },
    {
      "cell_type": "markdown",
      "source": [
        "## <a name = 'link25'> INTERIM REPORT </a>"
      ],
      "metadata": {
        "id": "fvrboig2jG0g"
      }
    },
    {
      "cell_type": "markdown",
      "source": [
        "# <a name = 'link3'> PROJECT TASK:MILESTONE 2 </a>"
      ],
      "metadata": {
        "id": "Io-M_JDFgmGk"
      }
    },
    {
      "cell_type": "markdown",
      "source": [
        "## <a name = 'link31'> STEP 1: DESIGN, TRAIN AND TEST RNN AND LSTM MODELS WITH EMBEDDINGS </a>"
      ],
      "metadata": {
        "id": "33Y6R6FSgsYy"
      }
    },
    {
      "cell_type": "markdown",
      "source": [
        "## <a name = 'link32'> STEP 2: DESIGN, TRAIN AND TEST BIDIRECTIONAL RNN AND LSTM MODELS </a>"
      ],
      "metadata": {
        "id": "UvhdK0MFg2wk"
      }
    },
    {
      "cell_type": "markdown",
      "source": [
        "## <a name = 'link33'> STEP 3: DESIGN, TRAIN AND TEST ENCODER - DECODER RNN AND LSTM MODELS </a>"
      ],
      "metadata": {
        "id": "uIeXXiKfg81b"
      }
    },
    {
      "cell_type": "markdown",
      "source": [
        "## <a name = 'link34'> STEP 4: CHOOSE THE BEST PERFORMING MODEL AND PICKLE IT </a>"
      ],
      "metadata": {
        "id": "Ls-JrxFshJtm"
      }
    },
    {
      "cell_type": "markdown",
      "source": [
        "# <a name = 'link4'> PROJECT TASK: MILESTONE 3 </a>"
      ],
      "metadata": {
        "id": "fgCKITD-gHmZ"
      }
    },
    {
      "cell_type": "markdown",
      "source": [
        "## <a name = 'link41'> STEP 1: DESIGN A CLICKABLE UI BASED TRANSLATION INTERFACE </a>"
      ],
      "metadata": {
        "id": "Vr7f2TpGgZJx"
      }
    }
  ]
}