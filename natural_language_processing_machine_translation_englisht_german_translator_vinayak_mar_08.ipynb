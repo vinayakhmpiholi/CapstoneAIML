{
  "nbformat": 4,
  "nbformat_minor": 0,
  "metadata": {
    "colab": {
      "provenance": [],
      "toc_visible": true,
      "include_colab_link": true
    },
    "kernelspec": {
      "name": "python3",
      "display_name": "Python 3"
    },
    "language_info": {
      "name": "python"
    }
  },
  "cells": [
    {
      "cell_type": "markdown",
      "metadata": {
        "id": "view-in-github",
        "colab_type": "text"
      },
      "source": [
        "<a href=\"https://colab.research.google.com/github/vinayakhmpiholi/CapstoneAIML/blob/main/natural_language_processing_machine_translation_englisht_german_translator_vinayak_mar_08.ipynb\" target=\"_parent\"><img src=\"https://colab.research.google.com/assets/colab-badge.svg\" alt=\"Open In Colab\"/></a>"
      ]
    },
    {
      "cell_type": "markdown",
      "source": [
        "<h1><center> NATURAL LANGUAGE PROCESSING: ENGLISH - GERMAN TRANSLATOR </center></h1>"
      ],
      "metadata": {
        "id": "cNOyz-mYZuXT"
      }
    },
    {
      "cell_type": "markdown",
      "source": [
        "**Authors:** Bhagawan Das Armani, Gunasekaran Venkatesan, Madhuman Basu, Sanjay R, Vinayak Hampiholi, Vipin Nair"
      ],
      "metadata": {
        "id": "45QrFkhCaWps"
      }
    },
    {
      "cell_type": "markdown",
      "source": [
        "**Instructions:** (To be removed at the time of submission).\n",
        "- Use your name, date-time and action in the comment that helps in tracking the changes.\n",
        "- The shared directory is MachineTranslation https://drive.google.com/drive/folders/1mpeQDxowVB45zRKwrjSk8LipxvpQOpWY?usp=drive_link\n",
        "- Machine Learning datasets from https://olympus.mygreatlearning.com/courses/110092/modules/items/6688876?pb_id=17305 is placed in the directory MachineTranslation/DataSet\n",
        "- I have also downloaded the datasets from https://statmt.org/wmt14/translation-task.html and placed the directories in the MachineTranslation/DataSet/"
      ],
      "metadata": {
        "id": "sWkXsZPOVPC8"
      }
    },
    {
      "cell_type": "markdown",
      "source": [
        "# <a name = 'link0'> INDEX </a>"
      ],
      "metadata": {
        "id": "R-9fVsZfagFI"
      }
    },
    {
      "cell_type": "markdown",
      "source": [
        "- <a href = #link0> INDEX </a>\n",
        "- <a href = #link1> PROBLEM STATEMENT </a>\n",
        "    - <a href = #link11> DOMAIN </a>\n",
        "    - <a href = #link12> CONTEXT </a>\n",
        "    - <a href = #link13> DATA DESCRIPTION </a>\n",
        "    - <a href = #link14> PROJECT OBJECTIVE </a>\n",
        "    - <a href = #link15> IMPORT LIBRARIES </a>\n",
        "- <a href = #link2> 1. PROJECT TASK: MILESTONE 1 </a>\n",
        "    - <a href = #link21> STEP 1: IMPORT AND MERGE THREE DATASETS </a>\n",
        "        - <a href = #link211> STEP 1.1: IMPORT EUROPARL DATASET </a>\n",
        "        - <a href = #link212> STEP 1.2: IMPORT COMMONCRAWL DATASET </a>\n",
        "        - <a href = #link213> STEP 1.3: IMPORT NEWSCOMMENTARY DATASET </a>\n",
        "    - <a href = #link22> STEP 2: DATA CLEANSING </a>\n",
        "    - <a href = #link23> STEP 3: NLP PRE-PROCESSING </a>\n",
        "    - <a href = #link24> STEP 4: DESIGN, TRAIN AND TEST SIMPLE RNN AND LSTM MODELS </a>\n",
        "    - <a href = #link25> STEP 5: INTERIM REPORT </a>\n",
        "- <a href = #link3> 2. PROJECT TASK: MILESTONE 2 </a>\n",
        "    - <a href = #link31> STEP 1: DESIGN, TRAIN AND TEST RNN AND LSTM MODELS WITH EMBEDDINGS </a>\n",
        "    - <a href = #link32> STEP 2: DESIGN, TRAIN AND TEST BIDIRECTIONAL RNN AND LSTM MODELS </a>\n",
        "    - <a href = #link33> STEP 3: DESIGN, TRAIN AND TEST ENCODER - DECODER RNN AND LSTM MODELS </a>\n",
        "    - <a href = #link34> STEP 4: CHOOSE THE BEST PERFORMING MODEL AND PICKLE IT </a>\n",
        "    - <a href = #link35> FINAL REPORT </a>\n",
        "- <a href = #link4> 3. PROJECT TASK: MILESTONE 3 </a>\n",
        "    - <a href = #link41> DESIGN A CLICKABLE UI BASED TRANSLATION INTERFACE </a>"
      ],
      "metadata": {
        "id": "p8Tx-jUKa3t6"
      }
    },
    {
      "cell_type": "markdown",
      "source": [
        "# <a name = 'link1'> PROBLEM STATEMENT </a>"
      ],
      "metadata": {
        "id": "fmFZa4uvlEC0"
      }
    },
    {
      "cell_type": "markdown",
      "source": [
        "## <a name = 'link11'> DOMAIN </a>"
      ],
      "metadata": {
        "id": "THSd3khTlKHk"
      }
    },
    {
      "cell_type": "markdown",
      "source": [
        "MACHINE TRANSLATION"
      ],
      "metadata": {
        "id": "BC6dJhZbl4jN"
      }
    },
    {
      "cell_type": "markdown",
      "source": [
        "## <a name = 'link12'> CONTEXT </a>"
      ],
      "metadata": {
        "id": "-TEjkGf3lP8v"
      }
    },
    {
      "cell_type": "markdown",
      "source": [
        "Machine Translation is the automated translation of source material into another language without human intervention.The database comes fromACL2014 Ninth workshop on Statistical Machine Translation. This workshop mainly focusses on language translation between European language pairs. The idea behind the workshop is to provide the ability for two parties to communicate and exchange the ideas from different countries"
      ],
      "metadata": {
        "id": "AH55VErDl7SG"
      }
    },
    {
      "cell_type": "markdown",
      "source": [
        "## <a name = 'link13'> DATA DESCRIPTION </a>"
      ],
      "metadata": {
        "id": "-Dk6omDBlSrW"
      }
    },
    {
      "cell_type": "markdown",
      "source": [
        "The  database  is  basically  sentences  in  German/English  of  various  events.  Three  datasets  are  obtained  from  Statistical  Machine  Translation workshop. Either the dataset can be downloaded from the link or can be used from the shared files. Three datasets are,\n",
        "- <a href ='https://statmt.org/wmt13/training-parallel-europarl-v7.tgz'> Europarl v7 </a>\n",
        "- <a href = 'https://statmt.org/wmt13/training-parallel-commoncrawl.tgz'> Common Crawl corpus </a>\n",
        "- <a href = 'https://statmt.org/wmt14/training-parallel-nc-v9.tgz'> News Commentary </a>\n",
        "\n",
        "Link to download the dataset: https://statmt.org/wmt14/translation-task.html"
      ],
      "metadata": {
        "id": "UmYat7Evl-j7"
      }
    },
    {
      "cell_type": "markdown",
      "source": [
        "## <a name = 'link14'> PROJECT OBJECTIVE </a>"
      ],
      "metadata": {
        "id": "lGyXBLWqlXuD"
      }
    },
    {
      "cell_type": "markdown",
      "source": [
        "Design a Machine Translation model that can be used to translate sentences from German language to English language or vice-versa."
      ],
      "metadata": {
        "id": "TVBxWcHtnLQg"
      }
    },
    {
      "cell_type": "markdown",
      "source": [
        "## <a name = 'link11'> IMPORT LIBRARIES </a>"
      ],
      "metadata": {
        "id": "iWxG2l--lcDF"
      }
    },
    {
      "cell_type": "code",
      "source": [
        "# This rubric is added by Vinayak Hampiholi on Feb 23.\n",
        "# Import warnings library to make warnings not displayed\n",
        "import warnings\n",
        "\n",
        "# Set the warning filters to ignore the warnings\n",
        "warnings.filterwarnings(\"ignore\")"
      ],
      "metadata": {
        "id": "lgq2QqdAUdhn"
      },
      "execution_count": 1,
      "outputs": []
    },
    {
      "cell_type": "code",
      "source": [
        "# This rubric is added by Vinayak Hampiholi on Feb 23.\n",
        "# Import google drive package\n",
        "from google.colab import drive\n",
        "\n",
        "# mount the google drive\n",
        "drive.mount(\"/content/drive\")"
      ],
      "metadata": {
        "colab": {
          "base_uri": "https://localhost:8080/"
        },
        "id": "csuL6UiWaUpt",
        "outputId": "f0df9ada-c578-4cca-b05f-af06019c43cb"
      },
      "execution_count": 2,
      "outputs": [
        {
          "output_type": "stream",
          "name": "stdout",
          "text": [
            "Mounted at /content/drive\n"
          ]
        }
      ]
    },
    {
      "cell_type": "code",
      "source": [
        "# This rubric is added by Vinayak Hampiholi on Feb 23.\n",
        "# Import the IPython library to display the output of a code block as markdown\n",
        "import IPython\n",
        "\n",
        "# Include the display and Markdown functions from IPython\n",
        "from IPython.display import display, Markdown\n",
        "\n",
        "# Display the version of IPython\n",
        "display(Markdown(\"**Observations:**\\n- IPython Version: {}\".format(IPython.__version__)))"
      ],
      "metadata": {
        "colab": {
          "base_uri": "https://localhost:8080/",
          "height": 70
        },
        "id": "576r0C6tVAtj",
        "outputId": "37b92c59-9ee9-4f84-c438-9274f2a6af7d"
      },
      "execution_count": 3,
      "outputs": [
        {
          "output_type": "display_data",
          "data": {
            "text/plain": [
              "<IPython.core.display.Markdown object>"
            ],
            "text/markdown": "**Observations:**\n- IPython Version: 7.34.0"
          },
          "metadata": {}
        }
      ]
    },
    {
      "cell_type": "code",
      "source": [
        "# This rubric is added by Vinayak Hampiholi on Feb 23.\n",
        "# Import numpy library\n",
        "import numpy\n",
        "\n",
        "# Display the version of numpy\n",
        "display(Markdown(\"**Observations:**\\n- numpy version: {}\".format(numpy.__version__)))"
      ],
      "metadata": {
        "colab": {
          "base_uri": "https://localhost:8080/",
          "height": 70
        },
        "id": "80bR-QaSZs-k",
        "outputId": "4a446fe3-2167-4b06-b660-685fac490a31"
      },
      "execution_count": 4,
      "outputs": [
        {
          "output_type": "display_data",
          "data": {
            "text/plain": [
              "<IPython.core.display.Markdown object>"
            ],
            "text/markdown": "**Observations:**\n- numpy version: 1.26.4"
          },
          "metadata": {}
        }
      ]
    },
    {
      "cell_type": "code",
      "source": [
        "# This rubric is added by Vinayak Hampiholi on Feb 23.\n",
        "# Import numpy library\n",
        "import pandas as pd\n",
        "\n",
        "# Display the version of numpy\n",
        "display(Markdown(\"**Observations:**\\n- pandas version: {}\".format(pd.__version__)))"
      ],
      "metadata": {
        "colab": {
          "base_uri": "https://localhost:8080/",
          "height": 70
        },
        "id": "uLxRGm74axeK",
        "outputId": "89be2ea5-982b-4bfe-c993-9ee16deb1880"
      },
      "execution_count": 5,
      "outputs": [
        {
          "output_type": "display_data",
          "data": {
            "text/plain": [
              "<IPython.core.display.Markdown object>"
            ],
            "text/markdown": "**Observations:**\n- pandas version: 2.2.2"
          },
          "metadata": {}
        }
      ]
    },
    {
      "cell_type": "code",
      "source": [
        "# This rubric is added by Vinayak Hampiholi on Feb 23.\n",
        "# Create a function to load data from a file\n",
        "def load_data(filepath, language):\n",
        "\n",
        "    # Open the file in read mode\n",
        "    with open(filepath, \"r\", encoding = \"utf-8\") as f:\n",
        "\n",
        "        # Load the file content\n",
        "        lines = f.readlines()\n",
        "\n",
        "    # Create a datafraome and return the dataframe\n",
        "    return pd.DataFrame({\"text\": lines, \"language\": language})"
      ],
      "metadata": {
        "id": "hkJjkofNa3LJ"
      },
      "execution_count": 6,
      "outputs": []
    },
    {
      "cell_type": "code",
      "source": [],
      "metadata": {
        "id": "7bZloyBdkeJj"
      },
      "execution_count": 6,
      "outputs": []
    },
    {
      "cell_type": "markdown",
      "source": [
        "# <a name = 'link2'> PROJECT TASK:MILESTONE 1 </a>"
      ],
      "metadata": {
        "id": "i3eiWP2yhiP6"
      }
    },
    {
      "cell_type": "markdown",
      "source": [
        "## <a name = 'link21'> STEP 1: IMPORT AND MERGE THREE DATASETS </a>"
      ],
      "metadata": {
        "id": "KmRBxe-TieYB"
      }
    },
    {
      "cell_type": "markdown",
      "source": [
        "### <a name = 'link211'> STEP 1.1: IMPORT EUROPARL DATASET  </a>"
      ],
      "metadata": {
        "id": "Gdr8HtMESsS8"
      }
    },
    {
      "cell_type": "code",
      "source": [
        "# This rubric is added by Vinayak Hampiholi on Feb 23.\n",
        "# Identify the difference between the downloaded datasets for europarl-v7\n",
        "!diff /content/drive/MyDrive/MachineTranslation/DataSet/europarl-v7_de_en.txt /content/drive/MyDrive/MachineTranslation/DataSet/training-parallel-europarl-v7/europarl-v7.de-en.de\n",
        "!diff /content/drive/MyDrive/MachineTranslation/DataSet/europarl-v7_en_de.txt /content/drive/MyDrive/MachineTranslation/DataSet/training-parallel-europarl-v7/europarl-v7.de-en.en"
      ],
      "metadata": {
        "id": "IyCESKeZYGQT"
      },
      "execution_count": 7,
      "outputs": []
    },
    {
      "cell_type": "markdown",
      "source": [
        "**Observations:**\n",
        "- The datafiles for europarl-v7 is same for both datasets."
      ],
      "metadata": {
        "id": "VN_cd4G0v46b"
      }
    },
    {
      "cell_type": "code",
      "source": [
        "# This rubric is added by Vinayak Hampiholi on Feb 23.\n",
        "# Identify the differences between the downloaded datasets for commoncrawl\n",
        "!diff /content/drive/MyDrive/MachineTranslation/DataSet/commoncrawl_de_en.txt /content/drive/MyDrive/MachineTranslation/DataSet/training-parallel-commoncrawl/commoncrawl.de-en.de\n",
        "!diff /content/drive/MyDrive/MachineTranslation/DataSet/commoncrawl_en_de.txt /content/drive/MyDrive/MachineTranslation/DataSet/training-parallel-commoncrawl/commoncrawl.de-en.en"
      ],
      "metadata": {
        "id": "0zd93ouewP0l"
      },
      "execution_count": 8,
      "outputs": []
    },
    {
      "cell_type": "markdown",
      "source": [
        "**Observations:**\n",
        "- The datafiles for commoncrawl is same for both datasets."
      ],
      "metadata": {
        "id": "Kn21aK1Zw8rY"
      }
    },
    {
      "cell_type": "code",
      "source": [
        "# This rubric is added by Vinayak Hampiholi on Feb 23.\n",
        "# Identify the differences between the downloaded datasets for news_commmentary-v9\n",
        "!diff /content/drive/MyDrive/MachineTranslation/DataSet/news-commentary-v9_de_en.txt /content/drive/MyDrive/MachineTranslation/DataSet/training-parallel-nc-v9/news-commentary-v9.de-en.de\n",
        "!diff /content/drive/MyDrive/MachineTranslation/DataSet/news-commentary-v9_en_de.txt /content/drive/MyDrive/MachineTranslation/DataSet/training-parallel-nc-v9/news-commentary-v9.de-en.en"
      ],
      "metadata": {
        "id": "k3zjYkUSw686"
      },
      "execution_count": 9,
      "outputs": []
    },
    {
      "cell_type": "markdown",
      "source": [
        "**Observations:**\n",
        "- The datafiles for newxcommentary-v9 is same for both datasets."
      ],
      "metadata": {
        "id": "VIsZfDH2xeX1"
      }
    },
    {
      "cell_type": "code",
      "source": [
        "# This rubric is added by Vinayak Hampiholi on Feb 23.\n",
        "# Comment on the dataloading activities\n",
        "display(Markdown(\"**Observations:**\"))\n",
        "\n",
        "# Set the file path to access europarl-v7.de-en.de from https://statmt.org/wmt14/translation-task.html\n",
        "europarl_de_path = \"/content/drive/MyDrive/MachineTranslation/DataSet/training-parallel-europarl-v7/europarl-v7.de-en.de\"\n",
        "\n",
        "# Initiate a try block to capture the error while loading the data europarl-v7.de-en.de\n",
        "try:\n",
        "    # Load the file europarl-v7.de-en.de into europarl_de\n",
        "    europarl_de = load_data(europarl_de_path, \"de\")\n",
        "\n",
        "    # Display the success message\n",
        "    display(Markdown(\"- File {} loaded successfully.\".format(europarl_de_path)))\n",
        "\n",
        "# Catch any generic exception\n",
        "except:\n",
        "\n",
        "    # Display the error message\n",
        "    display(Markdown(\"- Encountered the error while loading the file {}.\".format(europarl_de_path)))\n",
        "\n",
        "# Set the file path to access europarl-v7.de-en.en from https://statmt.org/wmt14/translation-task.html\n",
        "europarl_en_path = \"/content/drive/MyDrive/MachineTranslation/DataSet/training-parallel-europarl-v7/europarl-v7.de-en.en\"\n",
        "\n",
        "# Initiate a try block to catpure the error while loading the data europarl-v7.de-en.en\n",
        "try:\n",
        "\n",
        "    # Load the file europarl-v7.de-en.en\n",
        "    europarl_en = load_data(europarl_en_path, \"en\")\n",
        "\n",
        "    # Display the success message\n",
        "    display(Markdown(\"- File {} loaded successfully.\".format(europarl_en_path)))\n",
        "\n",
        "# Catch any generic exception\n",
        "except:\n",
        "\n",
        "    # Display the error message\n",
        "    display(Markdown(\"- Encountered the error while loading the file {}.\".format(europarl_en_path)))"
      ],
      "metadata": {
        "colab": {
          "base_uri": "https://localhost:8080/",
          "height": 93
        },
        "id": "MBJx5SCsTAPt",
        "outputId": "0a1d82ec-713e-499a-9a02-c48e000e1f78"
      },
      "execution_count": 10,
      "outputs": [
        {
          "output_type": "display_data",
          "data": {
            "text/plain": [
              "<IPython.core.display.Markdown object>"
            ],
            "text/markdown": "**Observations:**"
          },
          "metadata": {}
        },
        {
          "output_type": "display_data",
          "data": {
            "text/plain": [
              "<IPython.core.display.Markdown object>"
            ],
            "text/markdown": "- File /content/drive/MyDrive/MachineTranslation/DataSet/training-parallel-europarl-v7/europarl-v7.de-en.de loaded successfully."
          },
          "metadata": {}
        },
        {
          "output_type": "display_data",
          "data": {
            "text/plain": [
              "<IPython.core.display.Markdown object>"
            ],
            "text/markdown": "- File /content/drive/MyDrive/MachineTranslation/DataSet/training-parallel-europarl-v7/europarl-v7.de-en.en loaded successfully."
          },
          "metadata": {}
        }
      ]
    },
    {
      "cell_type": "markdown",
      "source": [
        "### <a name = 'link212'> STEP 1.2: IMPORT COMMONCRAWL DATASET  </a>"
      ],
      "metadata": {
        "id": "zP6PTVCITGo7"
      }
    },
    {
      "cell_type": "code",
      "source": [
        "# This rubric is added by Vinayak Hampiholi on Feb 23.\n",
        "# Comment on the dataloading activities\n",
        "display(Markdown(\"**Observations:**\"))\n",
        "\n",
        "# Set the file path to access commoncrawl.de-en.de from https://statmt.org/wmt14/translation-task.html\n",
        "commoncrawl_de_path = \"/content/drive/MyDrive/MachineTranslation/DataSet/training-parallel-commoncrawl/commoncrawl.de-en.de\"\n",
        "\n",
        "# Initiate a try block to capture the error while loading the data commoncrawl.de-en.de\n",
        "try:\n",
        "\n",
        "    # Load the file commoncrawl.de-en.de into commoncrawl_de\n",
        "    commoncrawl_de = load_data(commoncrawl_de_path, \"de\")\n",
        "\n",
        "    # Display the success message\n",
        "    display(Markdown(\"- File {} loaded successfully.\".format(commoncrawl_de_path)))\n",
        "\n",
        "# Catch any generic exception\n",
        "except:\n",
        "\n",
        "    # Display the error message\n",
        "    display(Markdown(\"- Encountered the error while loading the file {}.\".format(commoncrawl_de_path)))\n",
        "\n",
        "# Set the file path to access commoncrawl.de-en.en from https://statmt.org/wmt14/translation-task.html\n",
        "commoncrawl_en_path = \"/content/drive/MyDrive/MachineTranslation/DataSet/training-parallel-commoncrawl/commoncrawl.de-en.en\"\n",
        "\n",
        "# Initiate a try block to capture the error while loading the data commoncrawl.de-en.en\n",
        "try:\n",
        "\n",
        "    # Load the file commoncrawl.de-en.en into commoncrawl_en\n",
        "    commoncrawl_en = load_data(commoncrawl_en_path, \"en\")\n",
        "\n",
        "    # Display the success message\n",
        "    display(Markdown(\"- File {} loaded successfully.\".format(commoncrawl_en_path)))\n",
        "\n",
        "# Catch any generic exception\n",
        "except:\n",
        "\n",
        "    # Display the error message\n",
        "    display(Markdown(\"- Encountered the error while loading the file {}.\".format(commoncrawl_en_path)))"
      ],
      "metadata": {
        "colab": {
          "base_uri": "https://localhost:8080/",
          "height": 93
        },
        "id": "HwoK4nMET8rh",
        "outputId": "5274f435-56f6-467f-de04-ab05cb434084"
      },
      "execution_count": 11,
      "outputs": [
        {
          "output_type": "display_data",
          "data": {
            "text/plain": [
              "<IPython.core.display.Markdown object>"
            ],
            "text/markdown": "**Observations:**"
          },
          "metadata": {}
        },
        {
          "output_type": "display_data",
          "data": {
            "text/plain": [
              "<IPython.core.display.Markdown object>"
            ],
            "text/markdown": "- File /content/drive/MyDrive/MachineTranslation/DataSet/training-parallel-commoncrawl/commoncrawl.de-en.de loaded successfully."
          },
          "metadata": {}
        },
        {
          "output_type": "display_data",
          "data": {
            "text/plain": [
              "<IPython.core.display.Markdown object>"
            ],
            "text/markdown": "- File /content/drive/MyDrive/MachineTranslation/DataSet/training-parallel-commoncrawl/commoncrawl.de-en.en loaded successfully."
          },
          "metadata": {}
        }
      ]
    },
    {
      "cell_type": "markdown",
      "source": [
        "### <a name = 'link213'> STEP 1.3: IMPORT NEWSCOMMENTARY DATASET  </a>"
      ],
      "metadata": {
        "id": "N9LfoVB-ULNB"
      }
    },
    {
      "cell_type": "code",
      "source": [
        "# This rubric is added by Vinayak Hampiholi on Feb 23.\n",
        "# Comment on the dataloading activities\n",
        "display(Markdown(\"**Observations:**\"))\n",
        "\n",
        "# Set the file path to access news-commentary-v9.de-en.de from https://statmt.org/wmt14/translation-task.html\n",
        "newscommentary_de_path = \"/content/drive/MyDrive/MachineTranslation/DataSet/training-parallel-nc-v9/news-commentary-v9.de-en.de\"\n",
        "\n",
        "# Initiate a try block to capture the error while loading the data news-commentary-v9.de-en.de\n",
        "try:\n",
        "\n",
        "    # Load the file news-commentary-v9.de-en.de into newscommentary_de\n",
        "    newscommentary_de = load_data(newscommentary_de_path, \"de\")\n",
        "\n",
        "    # Display the success message\n",
        "    display(Markdown(\"- File {} loaded successfully.\".format(newscommentary_de_path)))\n",
        "\n",
        "# Catch any generic exception\n",
        "except:\n",
        "\n",
        "    # Display the error message\n",
        "    display(Markdown(\"- nEncountered the error while loading the file {}.\".format(newscommentary_de_path)))\n",
        "\n",
        "# Set the file path to access news-commentary-v9.de-en.en from https://statmt.org/wmt14/translation-task.html\n",
        "newscommentary_en_path = \"/content/drive/MyDrive/MachineTranslation/DataSet/training-parallel-nc-v9/news-commentary-v9.de-en.en\"\n",
        "\n",
        "# Initiate a try block to catpure the error while loading the data news-commentary-v9.de-en.en\n",
        "try:\n",
        "\n",
        "    # Load the file news-commentary-v9.de-en.en\n",
        "    newscommentary_en = load_data(newscommentary_en_path, \"en\")\n",
        "\n",
        "    # Display the success message\n",
        "    display(Markdown(\"- File {} loaded successfully.\".format(newscommentary_en_path)))\n",
        "\n",
        "# Catch any generic exception\n",
        "except:\n",
        "\n",
        "    # Display the error message\n",
        "    display(Markdown(\"- Encountered the error while loading the file {}.\".format(newscommentary_en_path)))"
      ],
      "metadata": {
        "colab": {
          "base_uri": "https://localhost:8080/",
          "height": 93
        },
        "id": "Glw96rzBUUMO",
        "outputId": "f8d79c84-44a0-44eb-b17a-b1c786dbcae4"
      },
      "execution_count": 12,
      "outputs": [
        {
          "output_type": "display_data",
          "data": {
            "text/plain": [
              "<IPython.core.display.Markdown object>"
            ],
            "text/markdown": "**Observations:**"
          },
          "metadata": {}
        },
        {
          "output_type": "display_data",
          "data": {
            "text/plain": [
              "<IPython.core.display.Markdown object>"
            ],
            "text/markdown": "- File /content/drive/MyDrive/MachineTranslation/DataSet/training-parallel-nc-v9/news-commentary-v9.de-en.de loaded successfully."
          },
          "metadata": {}
        },
        {
          "output_type": "display_data",
          "data": {
            "text/plain": [
              "<IPython.core.display.Markdown object>"
            ],
            "text/markdown": "- File /content/drive/MyDrive/MachineTranslation/DataSet/training-parallel-nc-v9/news-commentary-v9.de-en.en loaded successfully."
          },
          "metadata": {}
        }
      ]
    },
    {
      "cell_type": "code",
      "source": [
        "# This rubric is added by Vinayak Hampiholi on Mar 4.\n",
        "\n",
        "# Compare the number of rows in the dataframes europarl_de and europarl_en\n",
        "display(Markdown(\"**Observations:**\"))\n",
        "\n",
        "# Display the number of rows in the dataframe europarl_de\n",
        "display(Markdown(\"- Number of rows in the dataframe europarl_de: {}\".format(europarl_de.shape[0])))\n",
        "\n",
        "# Display the number of rows in the dataframe europarl_en\n",
        "display(Markdown(\"- Number of rows in the dataframe europarl_en: {}\".format(europarl_en.shape[0])))\n",
        "\n",
        "# Compare the numbers and display the observations\n",
        "if europarl_de.shape[0] == europarl_en.shape[0]:\n",
        "\n",
        "    # If the rows are same then print the same\n",
        "    display(Markdown(\"- The number of rows in the dataframes europarl_de and europarl_en are same.\"))\n",
        "\n",
        "else:\n",
        "\n",
        "    # If the rows are different then print the same\n",
        "    display(Markdown(\"- The number of rows in the dataframes europarl_de and europarl_en are not same.\"))"
      ],
      "metadata": {
        "colab": {
          "base_uri": "https://localhost:8080/",
          "height": 116
        },
        "id": "2Yf2phu-xDYC",
        "outputId": "229a7c6b-e513-4caa-f031-3115ba9ecb0b"
      },
      "execution_count": 13,
      "outputs": [
        {
          "output_type": "display_data",
          "data": {
            "text/plain": [
              "<IPython.core.display.Markdown object>"
            ],
            "text/markdown": "**Observations:**"
          },
          "metadata": {}
        },
        {
          "output_type": "display_data",
          "data": {
            "text/plain": [
              "<IPython.core.display.Markdown object>"
            ],
            "text/markdown": "- Number of rows in the dataframe europarl_de: 1920209"
          },
          "metadata": {}
        },
        {
          "output_type": "display_data",
          "data": {
            "text/plain": [
              "<IPython.core.display.Markdown object>"
            ],
            "text/markdown": "- Number of rows in the dataframe europarl_en: 1920209"
          },
          "metadata": {}
        },
        {
          "output_type": "display_data",
          "data": {
            "text/plain": [
              "<IPython.core.display.Markdown object>"
            ],
            "text/markdown": "- The number of rows in the dataframes europarl_de and europarl_en are same."
          },
          "metadata": {}
        }
      ]
    },
    {
      "cell_type": "code",
      "source": [
        "# This rubric is added by Vinayak Hampiholi on Mar 4.\n",
        "\n",
        "# Compare the number of rows in the dataframes commoncrawl_de and commoncrawl_en\n",
        "display(Markdown(\"**Observations:**\"))\n",
        "\n",
        "# Display the number of rows in the dataframe commoncrawl_de\n",
        "display(Markdown(\"- Number of rows in the dataframe commoncrawl_de: {}\".format(commoncrawl_de.shape[0])))\n",
        "\n",
        "# Display the number of rows in the dataframe commoncrawl_en\n",
        "display(Markdown(\"- Number of rows in the dataframe commoncrawl_en: {}\".format(commoncrawl_en.shape[0])))\n",
        "\n",
        "# Compare the numbers and display the observations\n",
        "if commoncrawl_de.shape[0] == commoncrawl_en.shape[0]:\n",
        "\n",
        "    # If the rows are same then print the same\n",
        "    display(Markdown(\"- The number of rows in the dataframes commoncrawl_de and commoncrawl_en are same.\"))\n",
        "\n",
        "else:\n",
        "\n",
        "    # If the rows are different then print the same\n",
        "    display(Markdown(\"- The number of rows in the dataframes commoncrawl_de and commoncrawl_en are not same.\"))"
      ],
      "metadata": {
        "colab": {
          "base_uri": "https://localhost:8080/",
          "height": 116
        },
        "id": "zfpSnzyu2dcq",
        "outputId": "a48c21e5-6837-4432-b8ce-c2882a93f5f0"
      },
      "execution_count": 14,
      "outputs": [
        {
          "output_type": "display_data",
          "data": {
            "text/plain": [
              "<IPython.core.display.Markdown object>"
            ],
            "text/markdown": "**Observations:**"
          },
          "metadata": {}
        },
        {
          "output_type": "display_data",
          "data": {
            "text/plain": [
              "<IPython.core.display.Markdown object>"
            ],
            "text/markdown": "- Number of rows in the dataframe commoncrawl_de: 2399123"
          },
          "metadata": {}
        },
        {
          "output_type": "display_data",
          "data": {
            "text/plain": [
              "<IPython.core.display.Markdown object>"
            ],
            "text/markdown": "- Number of rows in the dataframe commoncrawl_en: 2399123"
          },
          "metadata": {}
        },
        {
          "output_type": "display_data",
          "data": {
            "text/plain": [
              "<IPython.core.display.Markdown object>"
            ],
            "text/markdown": "- The number of rows in the dataframes commoncrawl_de and commoncrawl_en are same."
          },
          "metadata": {}
        }
      ]
    },
    {
      "cell_type": "code",
      "source": [
        "# This rubric is added by Vinayak Hampiholi on Mar 4.\n",
        "\n",
        "# Compare the number of rows in the dataframes newscommentary_de and newscommentary_en\n",
        "display(Markdown(\"**Observations:**\"))\n",
        "\n",
        "# Display the number of rows in the dataframe newscommentary_de\n",
        "display(Markdown(\"- Number of rows in the dataframe newscommentary_de: {}\".format(newscommentary_de.shape[0])))\n",
        "\n",
        "# Display the number of rows in the dataframe newscommentary_en\n",
        "display(Markdown(\"- Number of rows in the dataframe newscommentary_en: {}\".format(newscommentary_en.shape[0])))\n",
        "\n",
        "# Compare the numbers and display the observations\n",
        "if newscommentary_de.shape[0] == newscommentary_en.shape[0]:\n",
        "\n",
        "    # If the rows are same then print the same\n",
        "    display(Markdown(\"- The number of rows in the dataframes newscommentary_de and newscommentary_en are same.\"))\n",
        "\n",
        "else:\n",
        "\n",
        "    # If the rows are different then print the same\n",
        "    display(Markdown(\"- The number of rows in the dataframes newscommentary_de and newscommentary_en are not same.\"))"
      ],
      "metadata": {
        "colab": {
          "base_uri": "https://localhost:8080/",
          "height": 116
        },
        "id": "voMTeVWO9ewp",
        "outputId": "f2908639-b0e8-49ed-e9f3-599d86965703"
      },
      "execution_count": 15,
      "outputs": [
        {
          "output_type": "display_data",
          "data": {
            "text/plain": [
              "<IPython.core.display.Markdown object>"
            ],
            "text/markdown": "**Observations:**"
          },
          "metadata": {}
        },
        {
          "output_type": "display_data",
          "data": {
            "text/plain": [
              "<IPython.core.display.Markdown object>"
            ],
            "text/markdown": "- Number of rows in the dataframe newscommentary_de: 201854"
          },
          "metadata": {}
        },
        {
          "output_type": "display_data",
          "data": {
            "text/plain": [
              "<IPython.core.display.Markdown object>"
            ],
            "text/markdown": "- Number of rows in the dataframe newscommentary_en: 201995"
          },
          "metadata": {}
        },
        {
          "output_type": "display_data",
          "data": {
            "text/plain": [
              "<IPython.core.display.Markdown object>"
            ],
            "text/markdown": "- The number of rows in the dataframes newscommentary_de and newscommentary_en are not same."
          },
          "metadata": {}
        }
      ]
    },
    {
      "cell_type": "code",
      "source": [
        "# This rubric is added by Vinayak Hampiholi on Mar 7.\n",
        "\n",
        "# Prepare a dataframe that has the columns de_text and en_text in which de_text is taken from german datafiles and en_text is taken from english datafiles\n",
        "translation_dataset = pd.DataFrame({\"de_text\": europarl_de[\"text\"] + commoncrawl_de[\"text\"], \"en_text\": europarl_en[\"text\"] + commoncrawl_en[\"text\"]})\n",
        "\n",
        "# Print the first 10 rows\n",
        "translation_dataset.head(10)"
      ],
      "metadata": {
        "colab": {
          "base_uri": "https://localhost:8080/",
          "height": 363
        },
        "id": "tXTXGGECkqui",
        "outputId": "83263a33-aa7b-47bf-8953-15ad7709a821"
      },
      "execution_count": 49,
      "outputs": [
        {
          "output_type": "execute_result",
          "data": {
            "text/plain": [
              "                                             de_text  \\\n",
              "0  Wiederaufnahme der Sitzungsperiode\\niron cemen...   \n",
              "1  Ich erkläre die am Freitag, dem 17. Dezember u...   \n",
              "2  Wie Sie feststellen konnten, ist der gefürchte...   \n",
              "3  Im Parlament besteht der Wunsch nach einer Aus...   \n",
              "4  Heute möchte ich Sie bitten - das ist auch der...   \n",
              "5  Ich bitte Sie, sich zu einer Schweigeminute zu...   \n",
              "6  (Das Parlament erhebt sich zu einer Schweigemi...   \n",
              "7  Frau Präsidentin, zur Geschäftsordnung.\\nACDSe...   \n",
              "8  Wie Sie sicher aus der Presse und dem Fernsehe...   \n",
              "9  Zu den Attentatsopfern, die es in jüngster Zei...   \n",
              "\n",
              "                                             en_text  \n",
              "0  Resumption of the session\\niron cement is a re...  \n",
              "1  I declare resumed the session of the European ...  \n",
              "2  Although, as you will have seen, the dreaded '...  \n",
              "3  You have requested a debate on this subject in...  \n",
              "4  In the meantime, I should like to observe a mi...  \n",
              "5  Please rise, then, for this minute' s silence....  \n",
              "6  (The House rose and observed a minute' s silen...  \n",
              "7  Madam President, on a point of order.\\nTransla...  \n",
              "8  You will be aware from the press and televisio...  \n",
              "9  One of the people assassinated very recently i...  "
            ],
            "text/html": [
              "\n",
              "  <div id=\"df-77965ee7-a530-4913-828b-e342817293ee\" class=\"colab-df-container\">\n",
              "    <div>\n",
              "<style scoped>\n",
              "    .dataframe tbody tr th:only-of-type {\n",
              "        vertical-align: middle;\n",
              "    }\n",
              "\n",
              "    .dataframe tbody tr th {\n",
              "        vertical-align: top;\n",
              "    }\n",
              "\n",
              "    .dataframe thead th {\n",
              "        text-align: right;\n",
              "    }\n",
              "</style>\n",
              "<table border=\"1\" class=\"dataframe\">\n",
              "  <thead>\n",
              "    <tr style=\"text-align: right;\">\n",
              "      <th></th>\n",
              "      <th>de_text</th>\n",
              "      <th>en_text</th>\n",
              "    </tr>\n",
              "  </thead>\n",
              "  <tbody>\n",
              "    <tr>\n",
              "      <th>0</th>\n",
              "      <td>Wiederaufnahme der Sitzungsperiode\\niron cemen...</td>\n",
              "      <td>Resumption of the session\\niron cement is a re...</td>\n",
              "    </tr>\n",
              "    <tr>\n",
              "      <th>1</th>\n",
              "      <td>Ich erkläre die am Freitag, dem 17. Dezember u...</td>\n",
              "      <td>I declare resumed the session of the European ...</td>\n",
              "    </tr>\n",
              "    <tr>\n",
              "      <th>2</th>\n",
              "      <td>Wie Sie feststellen konnten, ist der gefürchte...</td>\n",
              "      <td>Although, as you will have seen, the dreaded '...</td>\n",
              "    </tr>\n",
              "    <tr>\n",
              "      <th>3</th>\n",
              "      <td>Im Parlament besteht der Wunsch nach einer Aus...</td>\n",
              "      <td>You have requested a debate on this subject in...</td>\n",
              "    </tr>\n",
              "    <tr>\n",
              "      <th>4</th>\n",
              "      <td>Heute möchte ich Sie bitten - das ist auch der...</td>\n",
              "      <td>In the meantime, I should like to observe a mi...</td>\n",
              "    </tr>\n",
              "    <tr>\n",
              "      <th>5</th>\n",
              "      <td>Ich bitte Sie, sich zu einer Schweigeminute zu...</td>\n",
              "      <td>Please rise, then, for this minute' s silence....</td>\n",
              "    </tr>\n",
              "    <tr>\n",
              "      <th>6</th>\n",
              "      <td>(Das Parlament erhebt sich zu einer Schweigemi...</td>\n",
              "      <td>(The House rose and observed a minute' s silen...</td>\n",
              "    </tr>\n",
              "    <tr>\n",
              "      <th>7</th>\n",
              "      <td>Frau Präsidentin, zur Geschäftsordnung.\\nACDSe...</td>\n",
              "      <td>Madam President, on a point of order.\\nTransla...</td>\n",
              "    </tr>\n",
              "    <tr>\n",
              "      <th>8</th>\n",
              "      <td>Wie Sie sicher aus der Presse und dem Fernsehe...</td>\n",
              "      <td>You will be aware from the press and televisio...</td>\n",
              "    </tr>\n",
              "    <tr>\n",
              "      <th>9</th>\n",
              "      <td>Zu den Attentatsopfern, die es in jüngster Zei...</td>\n",
              "      <td>One of the people assassinated very recently i...</td>\n",
              "    </tr>\n",
              "  </tbody>\n",
              "</table>\n",
              "</div>\n",
              "    <div class=\"colab-df-buttons\">\n",
              "\n",
              "  <div class=\"colab-df-container\">\n",
              "    <button class=\"colab-df-convert\" onclick=\"convertToInteractive('df-77965ee7-a530-4913-828b-e342817293ee')\"\n",
              "            title=\"Convert this dataframe to an interactive table.\"\n",
              "            style=\"display:none;\">\n",
              "\n",
              "  <svg xmlns=\"http://www.w3.org/2000/svg\" height=\"24px\" viewBox=\"0 -960 960 960\">\n",
              "    <path d=\"M120-120v-720h720v720H120Zm60-500h600v-160H180v160Zm220 220h160v-160H400v160Zm0 220h160v-160H400v160ZM180-400h160v-160H180v160Zm440 0h160v-160H620v160ZM180-180h160v-160H180v160Zm440 0h160v-160H620v160Z\"/>\n",
              "  </svg>\n",
              "    </button>\n",
              "\n",
              "  <style>\n",
              "    .colab-df-container {\n",
              "      display:flex;\n",
              "      gap: 12px;\n",
              "    }\n",
              "\n",
              "    .colab-df-convert {\n",
              "      background-color: #E8F0FE;\n",
              "      border: none;\n",
              "      border-radius: 50%;\n",
              "      cursor: pointer;\n",
              "      display: none;\n",
              "      fill: #1967D2;\n",
              "      height: 32px;\n",
              "      padding: 0 0 0 0;\n",
              "      width: 32px;\n",
              "    }\n",
              "\n",
              "    .colab-df-convert:hover {\n",
              "      background-color: #E2EBFA;\n",
              "      box-shadow: 0px 1px 2px rgba(60, 64, 67, 0.3), 0px 1px 3px 1px rgba(60, 64, 67, 0.15);\n",
              "      fill: #174EA6;\n",
              "    }\n",
              "\n",
              "    .colab-df-buttons div {\n",
              "      margin-bottom: 4px;\n",
              "    }\n",
              "\n",
              "    [theme=dark] .colab-df-convert {\n",
              "      background-color: #3B4455;\n",
              "      fill: #D2E3FC;\n",
              "    }\n",
              "\n",
              "    [theme=dark] .colab-df-convert:hover {\n",
              "      background-color: #434B5C;\n",
              "      box-shadow: 0px 1px 3px 1px rgba(0, 0, 0, 0.15);\n",
              "      filter: drop-shadow(0px 1px 2px rgba(0, 0, 0, 0.3));\n",
              "      fill: #FFFFFF;\n",
              "    }\n",
              "  </style>\n",
              "\n",
              "    <script>\n",
              "      const buttonEl =\n",
              "        document.querySelector('#df-77965ee7-a530-4913-828b-e342817293ee button.colab-df-convert');\n",
              "      buttonEl.style.display =\n",
              "        google.colab.kernel.accessAllowed ? 'block' : 'none';\n",
              "\n",
              "      async function convertToInteractive(key) {\n",
              "        const element = document.querySelector('#df-77965ee7-a530-4913-828b-e342817293ee');\n",
              "        const dataTable =\n",
              "          await google.colab.kernel.invokeFunction('convertToInteractive',\n",
              "                                                    [key], {});\n",
              "        if (!dataTable) return;\n",
              "\n",
              "        const docLinkHtml = 'Like what you see? Visit the ' +\n",
              "          '<a target=\"_blank\" href=https://colab.research.google.com/notebooks/data_table.ipynb>data table notebook</a>'\n",
              "          + ' to learn more about interactive tables.';\n",
              "        element.innerHTML = '';\n",
              "        dataTable['output_type'] = 'display_data';\n",
              "        await google.colab.output.renderOutput(dataTable, element);\n",
              "        const docLink = document.createElement('div');\n",
              "        docLink.innerHTML = docLinkHtml;\n",
              "        element.appendChild(docLink);\n",
              "      }\n",
              "    </script>\n",
              "  </div>\n",
              "\n",
              "\n",
              "<div id=\"df-8c6e6b50-7df1-4ac1-9990-49b831653570\">\n",
              "  <button class=\"colab-df-quickchart\" onclick=\"quickchart('df-8c6e6b50-7df1-4ac1-9990-49b831653570')\"\n",
              "            title=\"Suggest charts\"\n",
              "            style=\"display:none;\">\n",
              "\n",
              "<svg xmlns=\"http://www.w3.org/2000/svg\" height=\"24px\"viewBox=\"0 0 24 24\"\n",
              "     width=\"24px\">\n",
              "    <g>\n",
              "        <path d=\"M19 3H5c-1.1 0-2 .9-2 2v14c0 1.1.9 2 2 2h14c1.1 0 2-.9 2-2V5c0-1.1-.9-2-2-2zM9 17H7v-7h2v7zm4 0h-2V7h2v10zm4 0h-2v-4h2v4z\"/>\n",
              "    </g>\n",
              "</svg>\n",
              "  </button>\n",
              "\n",
              "<style>\n",
              "  .colab-df-quickchart {\n",
              "      --bg-color: #E8F0FE;\n",
              "      --fill-color: #1967D2;\n",
              "      --hover-bg-color: #E2EBFA;\n",
              "      --hover-fill-color: #174EA6;\n",
              "      --disabled-fill-color: #AAA;\n",
              "      --disabled-bg-color: #DDD;\n",
              "  }\n",
              "\n",
              "  [theme=dark] .colab-df-quickchart {\n",
              "      --bg-color: #3B4455;\n",
              "      --fill-color: #D2E3FC;\n",
              "      --hover-bg-color: #434B5C;\n",
              "      --hover-fill-color: #FFFFFF;\n",
              "      --disabled-bg-color: #3B4455;\n",
              "      --disabled-fill-color: #666;\n",
              "  }\n",
              "\n",
              "  .colab-df-quickchart {\n",
              "    background-color: var(--bg-color);\n",
              "    border: none;\n",
              "    border-radius: 50%;\n",
              "    cursor: pointer;\n",
              "    display: none;\n",
              "    fill: var(--fill-color);\n",
              "    height: 32px;\n",
              "    padding: 0;\n",
              "    width: 32px;\n",
              "  }\n",
              "\n",
              "  .colab-df-quickchart:hover {\n",
              "    background-color: var(--hover-bg-color);\n",
              "    box-shadow: 0 1px 2px rgba(60, 64, 67, 0.3), 0 1px 3px 1px rgba(60, 64, 67, 0.15);\n",
              "    fill: var(--button-hover-fill-color);\n",
              "  }\n",
              "\n",
              "  .colab-df-quickchart-complete:disabled,\n",
              "  .colab-df-quickchart-complete:disabled:hover {\n",
              "    background-color: var(--disabled-bg-color);\n",
              "    fill: var(--disabled-fill-color);\n",
              "    box-shadow: none;\n",
              "  }\n",
              "\n",
              "  .colab-df-spinner {\n",
              "    border: 2px solid var(--fill-color);\n",
              "    border-color: transparent;\n",
              "    border-bottom-color: var(--fill-color);\n",
              "    animation:\n",
              "      spin 1s steps(1) infinite;\n",
              "  }\n",
              "\n",
              "  @keyframes spin {\n",
              "    0% {\n",
              "      border-color: transparent;\n",
              "      border-bottom-color: var(--fill-color);\n",
              "      border-left-color: var(--fill-color);\n",
              "    }\n",
              "    20% {\n",
              "      border-color: transparent;\n",
              "      border-left-color: var(--fill-color);\n",
              "      border-top-color: var(--fill-color);\n",
              "    }\n",
              "    30% {\n",
              "      border-color: transparent;\n",
              "      border-left-color: var(--fill-color);\n",
              "      border-top-color: var(--fill-color);\n",
              "      border-right-color: var(--fill-color);\n",
              "    }\n",
              "    40% {\n",
              "      border-color: transparent;\n",
              "      border-right-color: var(--fill-color);\n",
              "      border-top-color: var(--fill-color);\n",
              "    }\n",
              "    60% {\n",
              "      border-color: transparent;\n",
              "      border-right-color: var(--fill-color);\n",
              "    }\n",
              "    80% {\n",
              "      border-color: transparent;\n",
              "      border-right-color: var(--fill-color);\n",
              "      border-bottom-color: var(--fill-color);\n",
              "    }\n",
              "    90% {\n",
              "      border-color: transparent;\n",
              "      border-bottom-color: var(--fill-color);\n",
              "    }\n",
              "  }\n",
              "</style>\n",
              "\n",
              "  <script>\n",
              "    async function quickchart(key) {\n",
              "      const quickchartButtonEl =\n",
              "        document.querySelector('#' + key + ' button');\n",
              "      quickchartButtonEl.disabled = true;  // To prevent multiple clicks.\n",
              "      quickchartButtonEl.classList.add('colab-df-spinner');\n",
              "      try {\n",
              "        const charts = await google.colab.kernel.invokeFunction(\n",
              "            'suggestCharts', [key], {});\n",
              "      } catch (error) {\n",
              "        console.error('Error during call to suggestCharts:', error);\n",
              "      }\n",
              "      quickchartButtonEl.classList.remove('colab-df-spinner');\n",
              "      quickchartButtonEl.classList.add('colab-df-quickchart-complete');\n",
              "    }\n",
              "    (() => {\n",
              "      let quickchartButtonEl =\n",
              "        document.querySelector('#df-8c6e6b50-7df1-4ac1-9990-49b831653570 button');\n",
              "      quickchartButtonEl.style.display =\n",
              "        google.colab.kernel.accessAllowed ? 'block' : 'none';\n",
              "    })();\n",
              "  </script>\n",
              "</div>\n",
              "\n",
              "    </div>\n",
              "  </div>\n"
            ],
            "application/vnd.google.colaboratory.intrinsic+json": {
              "type": "dataframe",
              "variable_name": "translation_dataset"
            }
          },
          "metadata": {},
          "execution_count": 49
        }
      ]
    },
    {
      "cell_type": "code",
      "source": [
        "# This rubric is added by Vinayak Hampiholi on Mar 7.\n",
        "\n",
        "# Check the unique number of rows in the each column to ensure that the lines do match.\n",
        "display(Markdown(\"**Observations:**\"))\n",
        "\n",
        "# Display the number of unique rows in the column de_text\n",
        "display(Markdown(\"- Number of rows in the column de_text: {}\".format(len(translation_dataset[\"de_text\"]))))\n",
        "\n",
        "# Display the number of unique rows in the column en_text\n",
        "display(Markdown(\"- Number of rows in the column en_text: {}\".format(len(translation_dataset[\"en_text\"]))))\n",
        "\n",
        "# Print whether the number of rows is same or different\n",
        "if len(translation_dataset[\"de_text\"]) == len(translation_dataset[\"en_text\"]):\n",
        "\n",
        "    # If the rows are same then print the same\n",
        "    display(Markdown(\"- The number of rows in the columns de_text and en_text are same.\"))\n",
        "\n",
        "# Else print the observation\n",
        "else:\n",
        "\n",
        "    # If the rows are different then print the same\n",
        "    display(Markdown(\"- The number of rows in the columns de_text and en_text are not same.\"))"
      ],
      "metadata": {
        "colab": {
          "base_uri": "https://localhost:8080/",
          "height": 116
        },
        "id": "sVSzfCJ6qqss",
        "outputId": "9ed6895d-3c7f-4d6e-abe4-ae203d3d59f1"
      },
      "execution_count": 50,
      "outputs": [
        {
          "output_type": "display_data",
          "data": {
            "text/plain": [
              "<IPython.core.display.Markdown object>"
            ],
            "text/markdown": "**Observations:**"
          },
          "metadata": {}
        },
        {
          "output_type": "display_data",
          "data": {
            "text/plain": [
              "<IPython.core.display.Markdown object>"
            ],
            "text/markdown": "- Number of rows in the column de_text: 2399123"
          },
          "metadata": {}
        },
        {
          "output_type": "display_data",
          "data": {
            "text/plain": [
              "<IPython.core.display.Markdown object>"
            ],
            "text/markdown": "- Number of rows in the column en_text: 2399123"
          },
          "metadata": {}
        },
        {
          "output_type": "display_data",
          "data": {
            "text/plain": [
              "<IPython.core.display.Markdown object>"
            ],
            "text/markdown": "- The number of rows in the columns de_text and en_text are same."
          },
          "metadata": {}
        }
      ]
    },
    {
      "cell_type": "markdown",
      "source": [
        "## <a name = 'link22'> STEP 2: DATA CLEANSING </a>"
      ],
      "metadata": {
        "id": "HERW9N3-infp"
      }
    },
    {
      "cell_type": "code",
      "source": [
        "# This rubric is added by Vinayak Hampiholi on Mar 7.\n",
        "\n",
        "# Look for null values and print the total null values\n",
        "display(Markdown(\"**Observations:**\"))\n",
        "\n",
        "# Display the number of null values in the dataframe translation_dataset\n",
        "display(Markdown(\"- Number of null values in the dataframe translation_dataset: {}\".format(translation_dataset.isnull().sum().sum())))"
      ],
      "metadata": {
        "colab": {
          "base_uri": "https://localhost:8080/",
          "height": 70
        },
        "id": "MD7glNao838O",
        "outputId": "8afcd2d9-8bfc-4e0b-fc45-a7f368a21b55"
      },
      "execution_count": 51,
      "outputs": [
        {
          "output_type": "display_data",
          "data": {
            "text/plain": [
              "<IPython.core.display.Markdown object>"
            ],
            "text/markdown": "**Observations:**"
          },
          "metadata": {}
        },
        {
          "output_type": "display_data",
          "data": {
            "text/plain": [
              "<IPython.core.display.Markdown object>"
            ],
            "text/markdown": "- Number of null values in the dataframe translation_dataset: 957828"
          },
          "metadata": {}
        }
      ]
    },
    {
      "cell_type": "code",
      "source": [
        "# This rubric is added by Vinayak Hampiholi on Mar 7.\n",
        "\n",
        "# Remove the null values from the dataset.\n",
        "translation_dataset_final = translation_dataset.dropna()\n",
        "\n",
        "# Print the total number of rows in the dataset after dropping the null values\n",
        "display(Markdown(\"**Observations:**\"))\n",
        "\n",
        "# Display the number of rows in the dataframe translation_dataset\n",
        "display(Markdown(\"- Number of rows in the dataframe translation_dataset: {}\".format(len(translation_dataset_final))))"
      ],
      "metadata": {
        "colab": {
          "base_uri": "https://localhost:8080/",
          "height": 70
        },
        "id": "FQDazJWh-gAh",
        "outputId": "9d4920b5-db79-4eb3-f955-2cf2b7042c67"
      },
      "execution_count": 52,
      "outputs": [
        {
          "output_type": "display_data",
          "data": {
            "text/plain": [
              "<IPython.core.display.Markdown object>"
            ],
            "text/markdown": "**Observations:**"
          },
          "metadata": {}
        },
        {
          "output_type": "display_data",
          "data": {
            "text/plain": [
              "<IPython.core.display.Markdown object>"
            ],
            "text/markdown": "- Number of rows in the dataframe translation_dataset: 1920209"
          },
          "metadata": {}
        }
      ]
    },
    {
      "cell_type": "markdown",
      "source": [
        "## <a name = 'link23'> STEP 3: NLP PRE-PROCESSING </a>"
      ],
      "metadata": {
        "id": "Hz5DbkZyiu57"
      }
    },
    {
      "cell_type": "markdown",
      "source": [
        "## <a name = 'link24'> STEP 4: DESIGN, TRAIN, AND TEST SIMPLE RNN AND LSTM MODELS </a>"
      ],
      "metadata": {
        "id": "kyGcTwKTi6Pk"
      }
    },
    {
      "cell_type": "markdown",
      "source": [
        "## <a name = 'link25'> INTERIM REPORT </a>"
      ],
      "metadata": {
        "id": "fvrboig2jG0g"
      }
    },
    {
      "cell_type": "markdown",
      "source": [
        "# <a name = 'link3'> PROJECT TASK:MILESTONE 2 </a>"
      ],
      "metadata": {
        "id": "Io-M_JDFgmGk"
      }
    },
    {
      "cell_type": "markdown",
      "source": [
        "## <a name = 'link31'> STEP 1: DESIGN, TRAIN AND TEST RNN AND LSTM MODELS WITH EMBEDDINGS </a>"
      ],
      "metadata": {
        "id": "33Y6R6FSgsYy"
      }
    },
    {
      "cell_type": "markdown",
      "source": [
        "## <a name = 'link32'> STEP 2: DESIGN, TRAIN AND TEST BIDIRECTIONAL RNN AND LSTM MODELS </a>"
      ],
      "metadata": {
        "id": "UvhdK0MFg2wk"
      }
    },
    {
      "cell_type": "markdown",
      "source": [
        "## <a name = 'link33'> STEP 3: DESIGN, TRAIN AND TEST ENCODER - DECODER RNN AND LSTM MODELS </a>"
      ],
      "metadata": {
        "id": "uIeXXiKfg81b"
      }
    },
    {
      "cell_type": "markdown",
      "source": [
        "## <a name = 'link34'> STEP 4: CHOOSE THE BEST PERFORMING MODEL AND PICKLE IT </a>"
      ],
      "metadata": {
        "id": "Ls-JrxFshJtm"
      }
    },
    {
      "cell_type": "markdown",
      "source": [
        "# <a name = 'link4'> PROJECT TASK: MILESTONE 3 </a>"
      ],
      "metadata": {
        "id": "fgCKITD-gHmZ"
      }
    },
    {
      "cell_type": "markdown",
      "source": [
        "## <a name = 'link41'> STEP 1: DESIGN A CLICKABLE UI BASED TRANSLATION INTERFACE </a>"
      ],
      "metadata": {
        "id": "Vr7f2TpGgZJx"
      }
    }
  ]
}